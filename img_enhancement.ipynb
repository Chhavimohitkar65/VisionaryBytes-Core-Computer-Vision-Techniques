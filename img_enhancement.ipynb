{
 "cells": [
  {
   "cell_type": "code",
   "execution_count": 1,
   "metadata": {},
   "outputs": [],
   "source": [
    "\n",
    "import matplotlib \n",
    "from matplotlib import pyplot as plt\n",
    "import random"
   ]
  },
  {
   "cell_type": "code",
   "execution_count": 14,
   "metadata": {},
   "outputs": [],
   "source": [
    "import cv2\n",
    "import numpy as num\n",
    "#reading the img and printing it\n",
    "src = ('cartoon.jpeg')\n",
    "input_img = cv2.imread(src)\n",
    "cv2.imshow('original image ', input_img)\n",
    "cv2.waitKey(0)\n",
    "cv2.destroyAllWindows()"
   ]
  },
  {
   "cell_type": "code",
   "execution_count": 18,
   "metadata": {},
   "outputs": [],
   "source": [
    "#converting the img to grayscale\n",
    "grayscale_img = cv2.cvtColor(input_img , cv2.COLOR_BGR2GRAY)\n",
    "cv2.imshow('grayscale image ', grayscale_img)\n",
    "cv2.waitKey(0)\n",
    "cv2.destroyAllWindows()"
   ]
  },
  {
   "cell_type": "code",
   "execution_count": 20,
   "metadata": {},
   "outputs": [],
   "source": [
    "#converting grayscale img to rgb\n",
    "rgb_img = cv2.cvtColor(grayscale_img , cv2.COLOR_GRAY2RGB)\n",
    "cv2.imshow('rgb image ', rgb_img)\n",
    "cv2.waitKey(0)\n",
    "cv2.destroyAllWindows()"
   ]
  },
  {
   "cell_type": "code",
   "execution_count": 22,
   "metadata": {},
   "outputs": [
    {
     "ename": "error",
     "evalue": "OpenCV(4.7.0) D:\\a\\opencv-python\\opencv-python\\opencv\\modules\\core\\src\\mathfuncs.cpp:708: error: (-215:Assertion failed) depth == CV_32F || depth == CV_64F in function 'cv::log'\n",
     "output_type": "error",
     "traceback": [
      "\u001b[1;31m---------------------------------------------------------------------------\u001b[0m",
      "\u001b[1;31merror\u001b[0m                                     Traceback (most recent call last)",
      "Cell \u001b[1;32mIn[22], line 1\u001b[0m\n\u001b[1;32m----> 1\u001b[0m log_img \u001b[39m=\u001b[39m cv2\u001b[39m.\u001b[39;49mlog(grayscale_img)\n\u001b[0;32m      2\u001b[0m cv2\u001b[39m.\u001b[39mimshow(\u001b[39m'\u001b[39m\u001b[39mlog image\u001b[39m\u001b[39m'\u001b[39m, log_img)\n\u001b[0;32m      3\u001b[0m cv2\u001b[39m.\u001b[39mwaitKey(\u001b[39m0\u001b[39m)\n",
      "\u001b[1;31merror\u001b[0m: OpenCV(4.7.0) D:\\a\\opencv-python\\opencv-python\\opencv\\modules\\core\\src\\mathfuncs.cpp:708: error: (-215:Assertion failed) depth == CV_32F || depth == CV_64F in function 'cv::log'\n"
     ]
    }
   ],
   "source": [
    "\n",
    "log_img = cv2.log(grayscale_img)\n",
    "cv2.imshow('log image', log_img)\n",
    "cv2.waitKey(0)\n",
    "cv2.destroyAllWindows()"
   ]
  }
 ],
 "metadata": {
  "kernelspec": {
   "display_name": "Python 3",
   "language": "python",
   "name": "python3"
  },
  "language_info": {
   "codemirror_mode": {
    "name": "ipython",
    "version": 3
   },
   "file_extension": ".py",
   "mimetype": "text/x-python",
   "name": "python",
   "nbconvert_exporter": "python",
   "pygments_lexer": "ipython3",
   "version": "3.10.2"
  },
  "orig_nbformat": 4
 },
 "nbformat": 4,
 "nbformat_minor": 2
}
