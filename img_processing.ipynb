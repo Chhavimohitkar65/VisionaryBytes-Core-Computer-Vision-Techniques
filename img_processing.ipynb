{
 "cells": [
  {
   "cell_type": "code",
   "execution_count": 1,
   "metadata": {},
   "outputs": [],
   "source": [
    "#converting color img into gray scale\n",
    "import cv2\n",
    "src = ('V:\\computer vision\\cartoon.jpeg')\n",
    "input_img = cv2.imread(src)\n",
    "cv2.imshow('original img', input_img)\n",
    "cv2.waitKey(0)\n",
    "cv2.destroyAllWindows\n",
    "if input_img is None:\n",
    "    print('could not open image ',input_img)\n",
    "    exit(0)\n",
    "gray = cv2.cvtColor(input_img ,cv2.COLOR_BGR2GRAY)\n",
    "cv2.imshow(' gray scale  image', gray)\n",
    "cv2.waitKey(0)\n",
    "cv2.destroyAllWindows()\n"
   ]
  },
  {
   "cell_type": "code",
   "execution_count": 2,
   "metadata": {},
   "outputs": [],
   "source": [
    "import cv2\n",
    "import numpy as num\n",
    "src = ('cartoon.jpeg')\n",
    "input_img = cv2.imread(src)\n",
    "cv2.imshow('original image ', input_img)\n",
    "cv2.waitKey(0)\n",
    "cv2.destroyAllWindows()\n",
    "if input_img is None:\n",
    "    print('the image could not be displayed')\n",
    "    exit(0)\n",
    "\n",
    "#splitting image into rgb channels\n",
    "\n",
    "blue, green , red = cv2.split(input_img)\n",
    "cv2.imshow('blue- grayscale',blue)\n",
    "cv2.waitKey(0)\n",
    "cv2.destroyAllWindows()\n",
    "cv2.imshow('green - grayscale', green)\n",
    "cv2.waitKey(0)\n",
    "cv2.destroyAllWindows()\n",
    "cv2.imshow('red - grayscale', red)\n",
    "cv2.waitKey(0)\n",
    "cv2.destroyAllWindows()\n",
    "\n",
    "\n"
   ]
  },
  {
   "cell_type": "code",
   "execution_count": 15,
   "metadata": {},
   "outputs": [],
   "source": [
    "import cv2\n",
    "img = cv2.imread('cartoon.jpeg')\n",
    "cv2.imshow('original image ', img)\n",
    "cv2.waitKey(0)\n",
    "cv2.destroyAllWindows()\n",
    "blur_img = cv2.medianBlur(img,13)\n",
    "cv2.imshow('blur image ', blur_img)\n",
    "cv2.waitKey(0)\n",
    "cv2.destroyAllWindows()"
   ]
  }
 ],
 "metadata": {
  "kernelspec": {
   "display_name": "Python 3",
   "language": "python",
   "name": "python3"
  },
  "language_info": {
   "codemirror_mode": {
    "name": "ipython",
    "version": 3
   },
   "file_extension": ".py",
   "mimetype": "text/x-python",
   "name": "python",
   "nbconvert_exporter": "python",
   "pygments_lexer": "ipython3",
   "version": "3.10.2"
  },
  "orig_nbformat": 4
 },
 "nbformat": 4,
 "nbformat_minor": 2
}
