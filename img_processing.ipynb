{
 "cells": [
  {
   "cell_type": "code",
   "execution_count": 2,
   "metadata": {},
   "outputs": [],
   "source": [
    "#converting color img into gray scale\n",
    "import cv2\n",
    "src = ('photos\\cartoon.jpeg')\n",
    "input_img = cv2.imread(src)\n",
    "cv2.imshow('original img', input_img)\n",
    "cv2.waitKey(0)\n",
    "cv2.destroyAllWindows\n",
    "if input_img is None:\n",
    "    print('could not open image ',input_img)\n",
    "    exit(0)\n",
    "gray = cv2.cvtColor(input_img ,cv2.COLOR_BGR2GRAY)\n",
    "cv2.imshow(' gray scale  image', gray)\n",
    "cv2.waitKey(0)\n",
    "cv2.destroyAllWindows()\n"
   ]
  },
  {
   "cell_type": "code",
   "execution_count": 3,
   "metadata": {},
   "outputs": [],
   "source": [
    "import cv2\n",
    "import numpy as np\n",
    "src = ('photos\\cartoon.jpeg')\n",
    "input_img = cv2.imread(src)\n",
    "cv2.imshow('original image ', input_img)\n",
    "cv2.waitKey(0)\n",
    "cv2.destroyAllWindows()\n",
    "if input_img is None:\n",
    "    print('the image could not be displayed')\n",
    "    exit(0)\n",
    "\n",
    "#splitting image into rgb channels\n",
    "\n",
    "blue, green , red = cv2.split(input_img)\n",
    "cv2.imshow('blue- grayscale',blue)\n",
    "cv2.waitKey(0)\n",
    "cv2.destroyAllWindows()\n",
    "cv2.imshow('green - grayscale', green)\n",
    "cv2.waitKey(0)\n",
    "cv2.destroyAllWindows()\n",
    "cv2.imshow('red - grayscale', red)\n",
    "cv2.waitKey(0)\n",
    "cv2.destroyAllWindows()\n",
    "\n",
    "\n"
   ]
  },
  {
   "cell_type": "code",
   "execution_count": 4,
   "metadata": {},
   "outputs": [
    {
     "ename": "ValueError",
     "evalue": "maximum supported dimension for an ndarray is 32, found 259",
     "output_type": "error",
     "traceback": [
      "\u001b[1;31m---------------------------------------------------------------------------\u001b[0m",
      "\u001b[1;31mValueError\u001b[0m                                Traceback (most recent call last)",
      "Cell \u001b[1;32mIn[4], line 3\u001b[0m\n\u001b[0;32m      1\u001b[0m \u001b[39m#creating a dummy array\u001b[39;00m\n\u001b[0;32m      2\u001b[0m \u001b[39mimport\u001b[39;00m \u001b[39mnumpy\u001b[39;00m \u001b[39mas\u001b[39;00m \u001b[39mnp\u001b[39;00m\n\u001b[1;32m----> 3\u001b[0m blue_channel \u001b[39m=\u001b[39m np\u001b[39m.\u001b[39;49mzeros(input_img,input_img\u001b[39m.\u001b[39;49mdtype)\n\u001b[0;32m      4\u001b[0m green_channel \u001b[39m=\u001b[39m np\u001b[39m.\u001b[39mzeros(input_img,input_img\u001b[39m.\u001b[39mdtype)\n\u001b[0;32m      5\u001b[0m red_channel \u001b[39m=\u001b[39m np\u001b[39m.\u001b[39mzeros(input_img,input_img\u001b[39m.\u001b[39mdtype)\n",
      "\u001b[1;31mValueError\u001b[0m: maximum supported dimension for an ndarray is 32, found 259"
     ]
    }
   ],
   "source": [
    "#creating a dummy array\n",
    "import numpy as np\n",
    "blue_channel = np.zeros(input_img,input_img.dtype)\n",
    "green_channel = np.zeros(input_img,input_img.dtype)\n",
    "red_channel = np.zeros(input_img,input_img.dtype)\n",
    "\n",
    "#matching each color channel to its 3d dimensions\n",
    "cv2.mixChannels([blue,green,red],[blue_channel],[0,0])\n",
    "cv2.mixChannels([blue,green,red],[green_channel],[1,1])\n",
    "cv2.mixChannels([blue,green,red],[red_channel],[2,2])\n",
    "\n",
    "cv2.imshow('blue-channel',blue_channel)\n",
    "cv2.waitKey(0)\n",
    "cv2.destroyAllWindows()\n",
    "cv2.imshow('green - channel', green_channel)\n",
    "cv2.waitKey(0)\n",
    "cv2.destroyAllWindows()\n",
    "cv2.imshow('red - channel', red_channel)\n",
    "cv2.waitKey(0)\n",
    "cv2.destroyAllWindows()"
   ]
  },
  {
   "cell_type": "code",
   "execution_count": null,
   "metadata": {},
   "outputs": [],
   "source": [
    "#bluring the img\n",
    "import cv2\n",
    "img = cv2.imread('photos\\cartoon.jpeg')\n",
    "cv2.imshow('original image ', img)\n",
    "cv2.waitKey(0)\n",
    "cv2.destroyAllWindows()\n",
    "blur_img = cv2.medianBlur(img,13)\n",
    "cv2.imshow('blur image ', blur_img)\n",
    "cv2.waitKey(0)\n",
    "cv2.destroyAllWindows()"
   ]
  }
 ],
 "metadata": {
  "kernelspec": {
   "display_name": "Python 3",
   "language": "python",
   "name": "python3"
  },
  "language_info": {
   "codemirror_mode": {
    "name": "ipython",
    "version": 3
   },
   "file_extension": ".py",
   "mimetype": "text/x-python",
   "name": "python",
   "nbconvert_exporter": "python",
   "pygments_lexer": "ipython3",
   "version": "3.10.2"
  },
  "orig_nbformat": 4
 },
 "nbformat": 4,
 "nbformat_minor": 2
}
